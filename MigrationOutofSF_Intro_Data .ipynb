{
    "cells": [
        {
            "cell_type": "markdown",
            "metadata": {},
            "source": "# Migration Out of San Francisco"
        },
        {
            "cell_type": "markdown",
            "metadata": {},
            "source": "## Introduction/Business Problem\n\nAccording to the Department of Finance, California lost nearly 200,000 of its residents from July 1, 2018 - July 1, 2019. The biggest contributor driving many people out is the increasing housing cost, with the average housing cost of \\\\$560,000 and average monthly rent cost of \\\\$1,400. San Francisco, the highest densely populated city in California, is experiencing a 329% increase in the housing market over the past two decades. As a result, many San Francisco natives are expected to move out of the state, but where are they mostly likely to move next? San Francisco is known for its busy city life and cultural diversity, so moving somewhere that offers the same lifestyle would be ideal for most movers. Similarly, it would also be ideal for many businesses to know where these Californians are moving to, if particular cities around the US are more likely to have larger population growth. "
        },
        {
            "cell_type": "markdown",
            "metadata": {
                "collapsed": true
            },
            "source": "### Citations\n\n1. Chronicle Editorial Board. \u201cEditorial: The Bay Area Housing Market Has Finally Priced Everyone Out.\u201d SFChronicle.com, San Francisco Chronicle, 6 Jan. 2020, www.sfchronicle.com/opinion/editorials/article/Editorial-The-Bay-Area-housing-market-has-14950641.php.\n2. \u201cLiving in San Francisco: The Pros and Cons.\u201d Furnished Quarters, 30 Apr. 2019, www.furnishedquarters.com/blog/living-in-san-francisco-pros-cons.\n3. Martichoux, Alix. \u201c1 In 3 San Francisco Residents Wants out, According to City Survey.\u201d SFGate, San Francisco Chronicle, 7 Nov. 2019, www.sfgate.com/expensive-san-francisco/article/leaving-sf-survey-moving-out-of-bay-area-14814850.php.\n4. McCamy, Laura. \u201c11 Facts about San Francisco's Housing Market That Will Make You Glad You Live Somewhere Else.\u201d Business Insider, Business Insider, 6 June 2019, www.businessinsider.com/san-francisco-housing-market-facts-rent-2019-5.\n5. \u201cTop 25 California Counties Ranked by Population Density.\u201d With San Francisco County Ranked #1, www.towncharts.com/California/Top-25-Counties-in-California-ranked-by-Population-Density.html."
        },
        {
            "cell_type": "markdown",
            "metadata": {},
            "source": "## Data\n\nFor this project, Foursquare API will be used to map the nearby venues in San Francisco, particularly venues associated with: job opportunity, diversity, pet accommodations, public transportation, and outdoor activity. These were chosen as the top features appealing to San Francisco residents, based on the article \"Living in San Francisco: The Pros and Cons\". After analyzing the values and weight of each type of venue, Foursquare API will also be used to find cities with similar characteristics as San Francisco. In addition to the presence of venues specified earlier, the average cost of living in each city will also be included. This will add monthly average mortgage and rent columns to the dataset, which will be used to analyze the likelihood of someone moving there, but not as a comparison feature to San Francisco."
        }
    ],
    "metadata": {
        "kernelspec": {
            "display_name": "Python 3.6",
            "language": "python",
            "name": "python3"
        },
        "language_info": {
            "codemirror_mode": {
                "name": "ipython",
                "version": 3
            },
            "file_extension": ".py",
            "mimetype": "text/x-python",
            "name": "python",
            "nbconvert_exporter": "python",
            "pygments_lexer": "ipython3",
            "version": "3.6.9"
        }
    },
    "nbformat": 4,
    "nbformat_minor": 1
}